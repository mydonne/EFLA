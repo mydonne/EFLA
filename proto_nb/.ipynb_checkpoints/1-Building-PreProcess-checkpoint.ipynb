{
 "cells": [
  {
   "cell_type": "code",
   "execution_count": null,
   "metadata": {},
   "outputs": [],
   "source": [
    "# -*- coding: utf-8 -*-\n",
    "\n",
    "import os\n",
    "import numpy as np\n",
    "import shutil\n",
    "from configparser import ConfigParser\n",
    "import re\n",
    "import time\n",
    "import gdal\n",
    "import cv2\n",
    "import json\n",
    "from collections import OrderedDict\n",
    "\n",
    "# 输入：样本数据的路径\n",
    "open_path = \"D:\\\\TestProgram-BuildingExtract-1121\\\\wj\\\\build_origin\\\\\"\n",
    "# 输出：sample_16bit，sample_8bit，poly等文件的父路径\n",
    "save_path=\"D:\\\\TestProgram-BuildingExtract-1121\\\\wj\\\\building_sample\\\\\"\n",
    "\n"
   ]
  }
 ],
 "metadata": {
  "kernelspec": {
   "display_name": "Python 3",
   "language": "python",
   "name": "python3"
  },
  "language_info": {
   "codemirror_mode": {
    "name": "ipython",
    "version": 3
   },
   "file_extension": ".py",
   "mimetype": "text/x-python",
   "name": "python",
   "nbconvert_exporter": "python",
   "pygments_lexer": "ipython3",
   "version": "3.6.7"
  }
 },
 "nbformat": 4,
 "nbformat_minor": 2
}
